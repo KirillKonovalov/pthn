{
 "cells": [
  {
   "cell_type": "code",
   "execution_count": 14,
   "metadata": {},
   "outputs": [
    {
     "name": "stdout",
     "output_type": "stream",
     "text": [
      "Введите слово: год\n",
      "Меньше четырех символов\n",
      "год дополнение 3 14\n",
      "теперь больше 10\n",
      "end\n"
     ]
    }
   ],
   "source": [
    "word = input('Введите слово: ')\n",
    "word_len=len(word)\n",
    "if word_len>4:\n",
    "    print('Больше четырех символов')\n",
    "    print(':)')\n",
    "else:\n",
    "    print('Меньше четырех символов')\n",
    "    new_word = word + ' ' + 'дополнение'\n",
    "    print(new_word, len(word), len(new_word))\n",
    "    if len(new_word) > 10:\n",
    "        print('теперь больше 10')\n",
    "print('end')"
   ]
  },
  {
   "cell_type": "code",
   "execution_count": 15,
   "metadata": {},
   "outputs": [
    {
     "data": {
      "text/plain": [
       "True"
      ]
     },
     "execution_count": 15,
     "metadata": {},
     "output_type": "execute_result"
    }
   ],
   "source": [
    "#метод проверки регистра .isupper()\n",
    "x=\"ДОМ\"\n",
    "x.isupper()"
   ]
  },
  {
   "cell_type": "code",
   "execution_count": 25,
   "metadata": {},
   "outputs": [
    {
     "name": "stdout",
     "output_type": "stream",
     "text": [
      "Enter a word: house\n",
      "You have written:  house\n",
      "lower\n"
     ]
    }
   ],
   "source": [
    "# if - если else - в противном случае elif ... \n",
    "\n",
    "word = input('Enter a word: ')\n",
    "print('You have written: ', word)\n",
    "if word.isupper():\n",
    "    print('upper')\n",
    "elif word.islower():\n",
    "        print('lower')\n",
    "elif word.istitle():\n",
    "        print('title')\n",
    "else:\n",
    "    print('something else')\n"
   ]
  },
  {
   "cell_type": "code",
   "execution_count": 27,
   "metadata": {},
   "outputs": [
    {
     "name": "stdout",
     "output_type": "stream",
     "text": [
      "Начинается с буквы \"с\" \n"
     ]
    }
   ],
   "source": [
    "#операторы \"и\" или \"или\"\n",
    "word = 'слово'\n",
    "if word[0] == 'с' or word[0] == 'С':\n",
    "    print('Начинается с буквы \"с\" ')\n",
    "if word[0] == 'c' and word[1]=='л':\n",
    "    print('-----')"
   ]
  },
  {
   "cell_type": "code",
   "execution_count": 32,
   "metadata": {},
   "outputs": [
    {
     "name": "stdout",
     "output_type": "stream",
     "text": [
      "Как Вас зовут?: кирилл\n",
      "Вы написал имя с маленькой буквы :(\n",
      "Ваше имя: Кирилл\n"
     ]
    }
   ],
   "source": [
    "user_name = input('Как Вас зовут?: ')\n",
    "if user_name[0].islower():\n",
    "    print('Вы написал имя с маленькой буквы :(')\n",
    "    print('Ваше имя:', user_name.title())\n",
    "else: \n",
    "    print('Привет,', user_name)"
   ]
  },
  {
   "cell_type": "code",
   "execution_count": 33,
   "metadata": {},
   "outputs": [
    {
     "data": {
      "text/plain": [
       "12000"
      ]
     },
     "execution_count": 33,
     "metadata": {},
     "output_type": "execute_result"
    }
   ],
   "source": [
    "word='12000'\n",
    "int(word)"
   ]
  },
  {
   "cell_type": "code",
   "execution_count": 42,
   "metadata": {},
   "outputs": [
    {
     "name": "stdout",
     "output_type": "stream",
     "text": [
      "Сколько Вам лет? 25\n",
      "Наверное Вы уже закончили школу :)\n",
      "Ваш День Рождения сегодня? конечно, да \n",
      "С Днем Рождения!\n"
     ]
    }
   ],
   "source": [
    "age = input('Сколько Вам лет? ')\n",
    "if int(age)>18:\n",
    "    print('Наверное Вы уже закончили школу :)')\n",
    "else:\n",
    "    print('Видимо Вы еще учитесь в школе :(')\n",
    "\n",
    "birthday = input('Ваш День Рождения сегодня? ')\n",
    "if 'да' in birthday:\n",
    "    print('С Днем Рождения!')\n",
    "else:\n",
    "    print('Скоро будет!')\n",
    "    "
   ]
  },
  {
   "cell_type": "code",
   "execution_count": 44,
   "metadata": {},
   "outputs": [
    {
     "data": {
      "text/plain": [
       "'ения'"
      ]
     },
     "execution_count": 44,
     "metadata": {},
     "output_type": "execute_result"
    }
   ],
   "source": [
    "word = 'Поздравления!'\n",
    "word[-5:-1]"
   ]
  },
  {
   "cell_type": "code",
   "execution_count": 45,
   "metadata": {},
   "outputs": [
    {
     "data": {
      "text/plain": [
       "'Пзрве'"
      ]
     },
     "execution_count": 45,
     "metadata": {},
     "output_type": "execute_result"
    }
   ],
   "source": [
    "#с шагом 2 \n",
    "word[0:10:2]"
   ]
  },
  {
   "cell_type": "code",
   "execution_count": 46,
   "metadata": {},
   "outputs": [
    {
     "data": {
      "text/plain": [
       "'!яинелвардзоП'"
      ]
     },
     "execution_count": 46,
     "metadata": {},
     "output_type": "execute_result"
    }
   ],
   "source": [
    "word[::-1]"
   ]
  },
  {
   "cell_type": "code",
   "execution_count": 49,
   "metadata": {},
   "outputs": [
    {
     "name": "stdout",
     "output_type": "stream",
     "text": [
      "Enter a word: abcbc\n",
      "No!\n"
     ]
    }
   ],
   "source": [
    "word = input('Enter a word: ')\n",
    "if word[::-1] == word: \n",
    "    print('Hooray!')\n",
    "else:\n",
    "    print('No!')"
   ]
  },
  {
   "cell_type": "code",
   "execution_count": 54,
   "metadata": {},
   "outputs": [
    {
     "data": {
      "text/plain": [
       "'9876'"
      ]
     },
     "execution_count": 54,
     "metadata": {},
     "output_type": "execute_result"
    }
   ],
   "source": [
    "a = '123456789'\n",
    "a[-1:-5:-1]"
   ]
  },
  {
   "cell_type": "code",
   "execution_count": null,
   "metadata": {},
   "outputs": [],
   "source": []
  }
 ],
 "metadata": {
  "kernelspec": {
   "display_name": "Python 3",
   "language": "python",
   "name": "python3"
  },
  "language_info": {
   "codemirror_mode": {
    "name": "ipython",
    "version": 3
   },
   "file_extension": ".py",
   "mimetype": "text/x-python",
   "name": "python",
   "nbconvert_exporter": "python",
   "pygments_lexer": "ipython3",
   "version": "3.7.0"
  }
 },
 "nbformat": 4,
 "nbformat_minor": 2
}
