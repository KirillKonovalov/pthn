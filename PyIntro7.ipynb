{
 "cells": [
  {
   "cell_type": "markdown",
   "metadata": {},
   "source": [
    "Морфологический анализ mystem и pymorphy. Выбор шире, но эти 2 гарантированно запускаются. \n",
    "Mystem - свободная программа с закрытым исходным кодом. Запуск из командной строки. \n",
    "gitignore - текстовый файл, где можно записать, что гит не должен учитывать (например, *tem* или *tem*/*exe - если папка с эксешным файлом, то игнорить)\n",
    "mystem.exe - имеет интерфейс командной строки, нужно открыть командную строку, указать путь к mystem.exe. В командной строке на винде символы не в кодировке UTF-8, на маке и линуксе всё сработает. cp-866 - кодировка DOS и винды как ее наследника. Поэтому в командной строке на винде запускать mystem бесполезно. Надо просить mystem разметить конкретные файлы. \n",
    "D:\\M\\mystem.exe D\\M\\1.txt D\\M\\1.tagged.txt (обращение к майстем, какой файл открыть, в какой файл записать результат)\n",
    "mystem тратит время на запуск.\n",
    "D:\\M\\mystem.exe D\\M\\1.txt D\\M\\1.tagged.txt -n (всё такое же и в конце функция -n, получится каждое слово с новой строки)\n",
    "-с (получится всё то, что было в оригинале)\n",
    "-i или -ci или -ic\n",
    "-d (дезамбигуация/снятие омонимии)\n",
    "-e cp866 (можно увидеть слова в командной строке)\n",
    "\n",
    "В линукс-подобных ОС\n",
    "wget http://lenta.ru...\n",
    "mystem (без расширений файлов)\n",
    "./mystem\n",
    "\n",
    "как обработать 1000 файлов?\n"
   ]
  },
  {
   "cell_type": "code",
   "execution_count": null,
   "metadata": {},
   "outputs": [],
   "source": [
    "import os\n",
    "lst = os.listdir(path)\n",
    "for fl in lst:\n",
    "    os.system('D/M/mysteme.exe {}{} result\\tagged_{} -d'.format(path,fl,fl))"
   ]
  },
  {
   "cell_type": "markdown",
   "metadata": {},
   "source": [
    "Но для mystem желательно открывать меньшее количество файлов. \n",
    "pip обычно лежит в папке python35 (например 35)\n",
    "C:\\\\Python35\\Scripts\\pip.exe\n",
    "\n"
   ]
  },
  {
   "cell_type": "code",
   "execution_count": null,
   "metadata": {},
   "outputs": [],
   "source": [
    "pip3 install pymystem3\n",
    "from pymystem3 import Mystem \n",
    "m = Mystem() #определение класса\n",
    "lemmas = m.lemmatize('мама мыла раму') #lemmas - обычный список\n",
    "ana = m.analyze ('мама мыла раму') #lemmas - список, в котором элементы - словари с двумя ключами: \n",
    "#{text: 'мыла', analysis: [{'lex': \"мыть\"}, {\"gr\": V, past...}]\n",
    "ana[0]['analysis'][0][\"lex\"]"
   ]
  },
  {
   "cell_type": "markdown",
   "metadata": {},
   "source": [
    "pymorphy2 \n",
    "не умеет дезамбигуацию\n",
    "покажет все варианты с частотностями \n",
    "внутри у него opencorpora\n",
    "плюсы: написан на питоне\n",
    "Тэги в pymorphy и Mystem разные"
   ]
  },
  {
   "cell_type": "code",
   "execution_count": null,
   "metadata": {},
   "outputs": [],
   "source": [
    "pip3 install pymorphy2\n",
    "import pymorphy2\n",
    "morph = pymorphy2.MorphAnalyzer()\n",
    "morph.parse('стали') #можно подавать только одно слово\n",
    "#Parse - тип объекта, который получается в результате команыд выше\n",
    "#Parse(word = 'стали', tag = OpenCorporaTag('verb, perf')normal form='стать'), Parse(...)\n",
    "p = morph.parse(\"стали\")[0]\n",
    "p.normal.form\n",
    "p.tag\n",
    "if 'verb' in p.tag\n",
    "p.tag.POS\n",
    "p.tag.gender"
   ]
  },
  {
   "cell_type": "markdown",
   "metadata": {},
   "source": [
    "udpipe - нужно танцевать с бубном\n",
    "Задание в классе - найти самую частотную часть речи в корпусе из новостных текстов, используя mystem и pymorphy\n"
   ]
  }
 ],
 "metadata": {
  "kernelspec": {
   "display_name": "Python 3",
   "language": "python",
   "name": "python3"
  },
  "language_info": {
   "codemirror_mode": {
    "name": "ipython",
    "version": 3
   },
   "file_extension": ".py",
   "mimetype": "text/x-python",
   "name": "python",
   "nbconvert_exporter": "python",
   "pygments_lexer": "ipython3",
   "version": "3.7.0"
  }
 },
 "nbformat": 4,
 "nbformat_minor": 2
}
